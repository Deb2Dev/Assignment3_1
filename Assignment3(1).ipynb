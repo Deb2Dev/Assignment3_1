{
 "cells": [
  {
   "cell_type": "code",
   "execution_count": 4,
   "id": "8247f656-84c5-4a4b-bb14-38761252d96b",
   "metadata": {},
   "outputs": [],
   "source": [
    "# 1.A:- def keyword is used to create a function in python.\n",
    "def odd() :\n",
    "    odd_list = []\n",
    "    for i in range(26) :\n",
    "        if((i+1)%2 == 1) :\n",
    "            odd_list.append(i+1)\n",
    "    return odd_list"
   ]
  },
  {
   "cell_type": "code",
   "execution_count": 19,
   "id": "f546d853-8cb2-4801-822d-b2c0a207caeb",
   "metadata": {},
   "outputs": [
    {
     "name": "stdout",
     "output_type": "stream",
     "text": [
      "8\n",
      "660\n"
     ]
    }
   ],
   "source": [
    "# 2.A:- *args allows us to pass a variable number of non-keyword arguments to a Python function. **kwargs allows us to pass a variable number of keyword arguments to a Python function.\n",
    "def addn(*numbers) :\n",
    "    total=0\n",
    "    for num in numbers :\n",
    "        total += num\n",
    "    print(total)\n",
    "\n",
    "def add(**item_price) :\n",
    "    total=0\n",
    "    for price in item_price.values() :\n",
    "        total += price\n",
    "    print(total)\n",
    "\n",
    "addn(6, 2)\n",
    "add(memento=300, flower=300, uthorio=60)"
   ]
  },
  {
   "cell_type": "code",
   "execution_count": 23,
   "id": "95bb376d-2d76-46a3-9a10-2b294c629442",
   "metadata": {},
   "outputs": [
    {
     "name": "stdout",
     "output_type": "stream",
     "text": [
      "2\n",
      "4\n",
      "6\n",
      "8\n",
      "10\n"
     ]
    }
   ],
   "source": [
    "# 3.A:- An iterator in Python is an object that is used to iterate over iterable objects like lists, tuples, dicts, and sets.\n",
    "# __iter__(): The iter() method is called for the initialization of an iterator\n",
    "# __next__(): The next method returns the next value for the iterable.\n",
    "num_list = [2, 4, 6, 8, 10, 12, 14, 16, 18, 20]\n",
    "iterator = iter(num_list)\n",
    "print(next(iterator))\n",
    "print(next(iterator))\n",
    "print(next(iterator))\n",
    "print(next(iterator))\n",
    "print(next(iterator))"
   ]
  },
  {
   "cell_type": "code",
   "execution_count": 25,
   "id": "cc721297-9103-4950-b267-1eda4397891b",
   "metadata": {},
   "outputs": [
    {
     "name": "stdout",
     "output_type": "stream",
     "text": [
      "0\n",
      "1\n",
      "2\n",
      "3\n",
      "4\n",
      "5\n",
      "6\n",
      "7\n",
      "8\n",
      "9\n",
      "10\n"
     ]
    }
   ],
   "source": [
    "# 4.A:- A generator function in Python is defined like a normal function, but whenever it needs to generate a value, it does so with the yield keyword rather than return.\n",
    "# The yield keyword will turn any expression that is given with it into a generator object and return it to the caller.\n",
    "def num(x):\n",
    "    for i in range(x+1) :\n",
    "        yield i\n",
    "\n",
    "for i in num(10) :\n",
    "    print(i)"
   ]
  },
  {
   "cell_type": "code",
   "execution_count": 35,
   "id": "de24306d-454a-48dd-854f-7ef77d0e8757",
   "metadata": {},
   "outputs": [
    {
     "name": "stdout",
     "output_type": "stream",
     "text": [
      "3\n",
      "5\n",
      "7\n",
      "9\n",
      "11\n",
      "13\n",
      "15\n",
      "17\n",
      "19\n",
      "21\n",
      "23\n",
      "25\n",
      "27\n",
      "29\n",
      "31\n",
      "33\n",
      "35\n",
      "37\n",
      "39\n",
      "41\n"
     ]
    }
   ],
   "source": [
    "# 5.A:-\n",
    "def prime_gen(x) :\n",
    "    for i in range(x) :\n",
    "        if(i != 1 or i != 0) :\n",
    "            if(isPrime(i)) :\n",
    "                yield i\n",
    "\n",
    "def isPrime(num) :\n",
    "    for i in range(num) :\n",
    "        if(i != 1 and i != 0) :\n",
    "            if(num % i == 0) :\n",
    "                return False\n",
    "            else :\n",
    "                return True\n",
    "\n",
    "get = prime_gen(1000)\n",
    "for i in range(20) :\n",
    "    print(next(get))"
   ]
  },
  {
   "cell_type": "code",
   "execution_count": null,
   "id": "eaeeaa63-3b30-47d6-b757-b2a2b967234a",
   "metadata": {},
   "outputs": [],
   "source": [
    "# 6.A:-\n",
    "def fibonacii(num) :\n",
    "    a=0\n",
    "    b=1\n",
    "    c=0\n",
    "    k=0\n",
    "    fib_list= [0,1]\n",
    "    while(k<num) :\n",
    "        c=a+b\n",
    "        a=b\n",
    "        b=c\n",
    "        fib_list.append(b)\n",
    "        k += 1\n",
    "    return fib_list"
   ]
  },
  {
   "cell_type": "code",
   "execution_count": 6,
   "id": "7b47f451-58da-4653-909f-162a5f1fcaf4",
   "metadata": {},
   "outputs": [
    {
     "name": "stdout",
     "output_type": "stream",
     "text": [
      "['p', 'w', 's', 'k', 'i', 'l', 'l', 's']\n"
     ]
    }
   ],
   "source": [
    "# 7.A:-\n",
    "string = 'pwskills'\n",
    "string_list=[i for i in string]\n",
    "print(string_list)"
   ]
  },
  {
   "cell_type": "code",
   "execution_count": null,
   "id": "84f4c337-1e9b-4c88-8587-ae3c849173a7",
   "metadata": {},
   "outputs": [],
   "source": [
    "#8.A:-\n",
    "inp = input('Enter the number: ')\n",
    "inp = int(inp)\n",
    "\n",
    "def check_palindrom(inp1) :\n",
    "    inp2=0\n",
    "    inp3=inp1\n",
    "    while(inp1 != 0) :\n",
    "        num=inp1%10\n",
    "        inp1=inp/10\n",
    "        inp2=inp2*10+num\n",
    "    if inp3-inp2==0 :\n",
    "        return True\n",
    "    else :\n",
    "        return False\n",
    "\n",
    "if(check_palindrom(inp)) :\n",
    "    print(\"Entered number is a palindrome\")\n",
    "else :\n",
    "    print(\"Entered number is not a palindrome\")"
   ]
  },
  {
   "cell_type": "code",
   "execution_count": 1,
   "id": "338498c5-2aba-42e5-b887-04ed1440c3c2",
   "metadata": {},
   "outputs": [
    {
     "name": "stdout",
     "output_type": "stream",
     "text": [
      "5050\n"
     ]
    }
   ],
   "source": [
    "# 9.A:-\n",
    "list_num=[i for i in range(101)]\n",
    "h=0\n",
    "for i in list_num :\n",
    "    h=h+i\n",
    "print(h)"
   ]
  },
  {
   "cell_type": "code",
   "execution_count": null,
   "id": "938afd43-7315-4ad3-bf37-e0d8f40b0851",
   "metadata": {},
   "outputs": [],
   "source": []
  }
 ],
 "metadata": {
  "kernelspec": {
   "display_name": "Python 3 (ipykernel)",
   "language": "python",
   "name": "python3"
  },
  "language_info": {
   "codemirror_mode": {
    "name": "ipython",
    "version": 3
   },
   "file_extension": ".py",
   "mimetype": "text/x-python",
   "name": "python",
   "nbconvert_exporter": "python",
   "pygments_lexer": "ipython3",
   "version": "3.10.8"
  }
 },
 "nbformat": 4,
 "nbformat_minor": 5
}
